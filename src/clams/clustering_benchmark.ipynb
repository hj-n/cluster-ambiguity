{
 "cells": [
  {
   "cell_type": "code",
   "execution_count": 7,
   "metadata": {},
   "outputs": [],
   "source": [
    "import numpy as np\n",
    "import pandas as pd\n",
    "import json\n",
    "import clustering_benchmark_helper as cbh\n",
    "from tqdm import tqdm\n",
    "import importlib\n",
    "from scipy.stats import spearmanr\n",
    "import matplotlib.pyplot as plt\n",
    "import seaborn as sns\n",
    "\n",
    "importlib.reload(cbh)\n",
    "\n",
    "import warnings\n",
    "warnings.filterwarnings(\"ignore\")\n"
   ]
  },
  {
   "cell_type": "code",
   "execution_count": 8,
   "metadata": {},
   "outputs": [],
   "source": [
    "ambiguity_score_path = \"../scatterplots/sampling/ambiguity_1_1.0253166008287824.npy\"\n",
    "ambiguity_score = np.load(ambiguity_score_path)\n",
    "keys = np.load(\"../scatterplots/userstudy_ambiguity/keys.npy\")\n",
    "\n",
    "scatterplot_dict = {}\n",
    "for i, key in enumerate(keys):\n",
    "\tscatterplot_dict[key] = np.load(f\"../scatterplots/scatterplots/{key}\")[::10]"
   ]
  },
  {
   "cell_type": "code",
   "execution_count": 61,
   "metadata": {},
   "outputs": [
    {
     "name": "stderr",
     "output_type": "stream",
     "text": [
      "  0%|          | 0/60 [00:00<?, ?it/s]"
     ]
    }
   ],
   "source": [
    "scorer = cbh.davies_bouldin_scorer\n",
    "hdbscan_scores = []\n",
    "dbscan_scores = []\n",
    "kmeans_scores = []\n",
    "xmeans_scores = []\n",
    "birch_scores = []\n",
    "agglo_complete_scores = []\n",
    "agglo_average_scores = []\n",
    "agglo_single_scores = []\n",
    "\n",
    "for key, scatterplot in tqdm(scatterplot_dict.items()):\n",
    "\thdbscan_scores.append(cbh.hdbscan_scorer(scatterplot, scorer))\n",
    "\tdbscan_scores.append(cbh.dbscan_scorer(scatterplot, scorer))\n",
    "\tkmeans_scores.append(cbh.kmeans_scorer(scatterplot, scorer))\n",
    "\txmeans_scores.append(cbh.xmeans_scorer(scatterplot, scorer))\n",
    "\tbirch_scores.append(cbh.birch_scorer(scatterplot, scorer))\n",
    "\tagglo_complete_scores.append(cbh.agglo_scorer(scatterplot, scorer, linkage=\"complete\"))\n",
    "\tagglo_average_scores.append(cbh.agglo_scorer(scatterplot, scorer, linkage=\"average\"))\n",
    "\tagglo_single_scores.append(cbh.agglo_scorer(scatterplot, scorer, linkage=\"single\"))\n",
    "\n",
    "# for key, scatterplot in tqdm(scatterplot_dict.items()):\n",
    "# \thdbscan_scores.append(cbh.hdbscan_naive_scorer(scatterplot, scorer))\n",
    "# \tdbscan_scores.append(cbh.dbscan_naive_scorer(scatterplot, scorer))\n",
    "# \tkmeans_scores.append(cbh.kmeans_naive_scorer(scatterplot, scorer))\n",
    "# \txmeans_scores.append(cbh.xmeans_naive_scorer(scatterplot, scorer))\n",
    "# \tbirch_scores.append(cbh.birch_naive_scorer(scatterplot, scorer))\n",
    "# \tagglo_complete_scores.append(cbh.agglomerative_naive_scorer(scatterplot, scorer, linkage=\"complete\"))\n",
    "# \tagglo_average_scores.append(cbh.agglomerative_naive_scorer(scatterplot, scorer, linkage=\"average\"))\n",
    "# \tagglo_single_scores.append(cbh.agglomerative_naive_scorer(scatterplot, scorer, linkage=\"single\"))"
   ]
  },
  {
   "cell_type": "code",
   "execution_count": 20,
   "metadata": {},
   "outputs": [],
   "source": [
    "metric = \"silhouette\"\n",
    "\n",
    "np.save(f\"./clustering_benchmark/hdbscan_{metric}_scores.npy\", hdbscan_scores)\n",
    "np.save(f\"./clustering_benchmark/dbscan_{metric}_scores.npy\", dbscan_scores)\n",
    "np.save(f\"./clustering_benchmark/kmeans_{metric}_scores.npy\", kmeans_scores)\n",
    "np.save(f\"./clustering_benchmark/xmeans_{metric}_scores.npy\", xmeans_scores)\n",
    "np.save(f\"./clustering_benchmark/birch_{metric}_scores.npy\", birch_scores)\n",
    "np.save(f\"./clustering_benchmark/agglo_complete_{metric}_scores.npy\", agglo_complete_scores)\n",
    "np.save(f\"./clustering_benchmark/agglo_average_{metric}_scores.npy\", agglo_average_scores)\n",
    "np.save(f\"./clustering_benchmark/agglo_single_{metric}_scores.npy\", agglo_single_scores)"
   ]
  },
  {
   "cell_type": "code",
   "execution_count": 12,
   "metadata": {},
   "outputs": [],
   "source": [
    "metric = \"calinski\"\n",
    "\n",
    "hdbscan_scores = np.load(f\"./clustering_benchmark/hdbscan_{metric}_scores.npy\")\n",
    "dbscan_scores = np.load(f\"./clustering_benchmark/dbscan_{metric}_scores.npy\")\n",
    "kmeans_scores = np.load(f\"./clustering_benchmark/kmeans_{metric}_scores.npy\")\n",
    "xmeans_scores = np.load(f\"./clustering_benchmark/xmeans_{metric}_scores.npy\")\n",
    "birch_scores = np.load(f\"./clustering_benchmark/birch_{metric}_scores.npy\")\n",
    "agglo_complete_scores = np.load(f\"./clustering_benchmark/agglo_complete_{metric}_scores.npy\")\n",
    "agglo_average_scores = np.load(f\"./clustering_benchmark/agglo_average_{metric}_scores.npy\")\n",
    "agglo_single_scores = np.load(f\"./clustering_benchmark/agglo_single_{metric}_scores.npy\")"
   ]
  },
  {
   "cell_type": "code",
   "execution_count": 13,
   "metadata": {},
   "outputs": [],
   "source": [
    "## extract the index of top 1/3 ambiguity score\n",
    "top_ambiguity_score_index = np.argsort(ambiguity_score)[::-1][:20]\n",
    "bottom_ambiguity_score_index = np.argsort(ambiguity_score)[:20]\n",
    "middle_ambiguity_score_index = np.argsort(ambiguity_score)[20:40]\n",
    "\n",
    "index_lists      = [bottom_ambiguity_score_index, middle_ambiguity_score_index, top_ambiguity_score_index]\n",
    "index_name_lists = [\"Bottom 1/3\", \"Middle 1/3\", \"Top 1/3\"]\n",
    "scores_list = [\n",
    "\thdbscan_scores,\n",
    "\tdbscan_scores,\n",
    "\tkmeans_scores,\n",
    "\txmeans_scores,\n",
    "\tbirch_scores,\n",
    "\tagglo_complete_scores,\n",
    "\tagglo_average_scores,\n",
    "\tagglo_single_scores\n",
    "]\n",
    "\n",
    "\n",
    "\n",
    "index_to_corrs = {}\n",
    "\n",
    "## naive rank correlation test\n",
    "for idx, index_list in enumerate(index_lists):\n",
    "\tcorrs = []\n",
    "\tfor i in range(len(index_list)):\n",
    "\t\tfor j in range(0, i):\n",
    "\t\t\ti_score_list = []\n",
    "\t\t\tj_score_list = []\n",
    "\t\t\tfor scores in scores_list:\n",
    "\t\t\t\ti_score_list.append(scores[index_list[i]])\n",
    "\t\t\t\tj_score_list.append(scores[index_list[j]])\n",
    "\t\t\t\n",
    "\t\t\tcorr = spearmanr(i_score_list, j_score_list)\n",
    "\t\t\tcorrs.append(corr[0])\n",
    "\t\n",
    "\tindex_to_corrs[index_name_lists[idx]] = corrs\n"
   ]
  },
  {
   "cell_type": "code",
   "execution_count": 14,
   "metadata": {},
   "outputs": [
    {
     "data": {
      "text/plain": [
       "<AxesSubplot:xlabel='Correlation', ylabel='Scatterplot'>"
      ]
     },
     "execution_count": 14,
     "metadata": {},
     "output_type": "execute_result"
    },
    {
     "data": {
      "image/png": "[encoded data removed]",
      "text/plain": [
       "<Figure size 1000x250 with 1 Axes>"
      ]
     },
     "metadata": {},
     "output_type": "display_data"
    }
   ],
   "source": [
    "keys = []\n",
    "values = []\n",
    "\n",
    "for key, value in index_to_corrs.items():\n",
    "  keys += [key] * len(value)\n",
    "  values += value\n",
    "\n",
    "df = pd.DataFrame({\n",
    "  \"Scatterplot\": keys,\n",
    "  \"Correlation\": values\n",
    "})\n",
    "\n",
    "\n",
    "plt.figure(figsize=(10, 2.5))\n",
    "sns.set_theme(style=\"whitegrid\")\n",
    "sns.boxplot(x=\"Correlation\", y=\"Scatterplot\", data=df)\n",
    "\n",
    "  \n",
    "\n",
    "  \n"
   ]
  }
 ],
 "metadata": {
  "kernelspec": {
   "display_name": "cambiguity",
   "language": "python",
   "name": "python3"
  },
  "language_info": {
   "codemirror_mode": {
    "name": "ipython",
    "version": 3
   },
   "file_extension": ".py",
   "mimetype": "text/x-python",
   "name": "python",
   "nbconvert_exporter": "python",
   "pygments_lexer": "ipython3",
   "version": "3.9.15"
  },
  "orig_nbformat": 4,
  "vscode": {
   "interpreter": {
    "hash": "67b843df68ad62ab9d9a308ac42d910ba8af5accaed8452594a7c98329634d46"
   }
  }
 },
 "nbformat": 4,
 "nbformat_minor": 2
}
