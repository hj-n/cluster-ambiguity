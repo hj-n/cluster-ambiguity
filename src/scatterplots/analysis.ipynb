{
 "cells": [
  {
   "cell_type": "code",
   "execution_count": 15,
   "metadata": {},
   "outputs": [],
   "source": [
    "import numpy as np\n",
    "import json, os\n",
    "## import spearmanr\n",
    "from scipy.stats import spearmanr, pearsonr\n",
    "import matplotlib.pyplot as plt\n",
    "import seaborn as sns\n",
    "from sklearn.metrics import adjusted_mutual_info_score, v_measure_score, adjusted_rand_score, normalized_mutual_info_score, homogeneity_completeness_v_measure\n",
    "import pandas as pd"
   ]
  },
  {
   "cell_type": "code",
   "execution_count": 2,
   "metadata": {},
   "outputs": [],
   "source": [
    "## ambiguity load\n",
    "with open(\"./sampling/key_to_ambiguity.json\", \"r\") as f:\n",
    "\tkey_to_ambiguity = json.load(f)\n",
    "\n",
    "with open(\"./sampling/key_to_xmeans_ambiguity.json\", \"r\") as f:\n",
    "\tkey_to_xmeans_ambiguity = json.load(f)\n",
    "\n",
    "with open(\"./sampling/key_to_hdbscan_ambiguity.json\", \"r\") as f:\n",
    "\tkey_to_hdbscan_ambiguity = json.load(f)\n",
    "\n",
    "with open(\"./sampling/key_to_dbscan_ambiguity.json\", \"r\") as f:\n",
    "\tkey_to_dbscan_ambiguity = json.load(f)\n",
    "\n",
    "with open(\"./sampling/key_to_birch_ambiguity.json\", \"r\") as f:\n",
    "\tkey_to_birch_ambiguity = json.load(f)\n",
    "\n",
    "with open(\"./sampling/sampled_datasets_training.json\", \"r\") as f:\n",
    "\tsampled_datasets_training = json.load(f)\n",
    "\n",
    "\n",
    "\n",
    "for dataset in sampled_datasets_training:\n",
    "\n",
    "\tdel key_to_ambiguity[dataset + \".npy\"]\n",
    "\tdel key_to_xmeans_ambiguity[dataset + \".npy\"]\n",
    "\tdel key_to_hdbscan_ambiguity[dataset + \".npy\"]\n",
    "\tdel key_to_dbscan_ambiguity[dataset + \".npy\"]\n",
    "\tdel key_to_birch_ambiguity[dataset + \".npy\"]\n",
    "\n",
    "\n",
    "\n",
    "keys = list(key_to_ambiguity.keys())\n",
    "ambiguities = np.array(list(key_to_ambiguity.values()))\n",
    "xmeans_ambiguity = np.array([key_to_xmeans_ambiguity[key] for key in keys])\n",
    "hdbscan_ambiguity = np.array([key_to_hdbscan_ambiguity[key] for key in keys])\n",
    "dbscan_ambiguity = np.array([key_to_dbscan_ambiguity[key] for key in keys])\n",
    "birch_ambiguity = np.array([key_to_birch_ambiguity[key] for key in keys])"
   ]
  },
  {
   "cell_type": "code",
   "execution_count": 3,
   "metadata": {},
   "outputs": [],
   "source": [
    "## study result load\n",
    "\n",
    "study_result = []\n",
    "for part in os.listdir(\"./study_result/\"):\n",
    "\tif part[-5:] == \".json\":\n",
    "\t\twith open(f\"./study_result/{part}\", \"r\") as f:\n",
    "\t\t\tstudy_result.append(json.load(f))\n"
   ]
  },
  {
   "cell_type": "code",
   "execution_count": 4,
   "metadata": {},
   "outputs": [
    {
     "name": "stdout",
     "output_type": "stream",
     "text": [
      "User-selected ambiguity: [2.5    2.8125 3.0625 0.0625 2.     3.5625 0.9375 2.     1.875  1.3125\n",
      " 1.625  2.625  1.625  3.     1.     1.875  2.125  2.875  1.1875 1.875\n",
      " 1.1875 2.5625 3.     1.0625 0.1875 3.375  3.0625 2.625  1.25   1.9375\n",
      " 2.6875 1.4375 2.3125 0.875  1.75   0.6875 2.1875 2.375  3.3125 1.625\n",
      " 3.125  0.625  2.0625 1.875  1.3125 2.3125 1.4375 1.1875 1.375  1.9375\n",
      " 1.4375 1.4375 2.9375 1.1875 3.3125 2.125  1.1875 1.375  1.     2.5625]\n",
      "True ambiguity: [0.99995777 0.88477545 0.65843415 0.23767588 0.88394184 0.63903525\n",
      " 0.84900185 0.84615918 0.88317543 0.56839006 0.79770394 0.73411645\n",
      " 0.6216849  0.6728777  0.73895027 0.70225396 0.80626341 0.55603592\n",
      " 0.46329976 0.9188162  0.51408545 0.62650307 0.67131158 0.50083347\n",
      " 0.43350744 0.62054685 0.67083099 0.58867302 0.4668663  0.54078836\n",
      " 0.69252192 0.56239455 0.75128319 0.64564932 0.40005765 0.791513\n",
      " 0.5677418  0.60007622 0.6702086  0.9527356  0.67232688 0.45476836\n",
      " 0.43028143 0.45721441 0.53622831 0.69022621 0.57725692 0.3469634\n",
      " 0.52570386 0.49169258 0.49696555 0.47715277 0.69910773 0.46518541\n",
      " 0.56795598 0.5352419  0.49011389 0.64583591 0.41447629 0.61275578]\n"
     ]
    }
   ],
   "source": [
    "## user-selected ambiguity\n",
    "user_selected_ambiguity = np.zeros(len(keys))\n",
    "for result in study_result:\n",
    "\n",
    "\tfor i, key in enumerate(keys):\n",
    "\t\tuser_selected_ambiguity[i] += int(result[\"ambiguity\"][key])\n",
    "\t\t# if result[\"ambiguity\"][key] == \"amb\":\n",
    "\t\t# \tuser_selected_ambiguity[i] += 1\n",
    "\t\t# elif result[\"ambiguity\"][key] == \"unclear\":\n",
    "\t\t# \tuser_selected_ambiguity[i] += 0\n",
    "\t\t# elif result[\"ambiguity\"][key] == \"not_emb\":\n",
    "\t\t# \tuser_selected_ambiguity[i] -=1\n",
    "\n",
    "user_selected_ambiguity /= len(study_result)\n",
    "\n",
    "print(f\"User-selected ambiguity: {user_selected_ambiguity}\")\n",
    "print(f\"True ambiguity: {ambiguities}\")"
   ]
  },
  {
   "cell_type": "code",
   "execution_count": 5,
   "metadata": {},
   "outputs": [
    {
     "ename": "KeyboardInterrupt",
     "evalue": "",
     "output_type": "error",
     "traceback": [
      "\u001b[0;31m---------------------------------------------------------------------------\u001b[0m",
      "\u001b[0;31mKeyboardInterrupt\u001b[0m                         Traceback (most recent call last)",
      "Cell \u001b[0;32mIn [5], line 34\u001b[0m\n\u001b[1;32m     32\u001b[0m \u001b[39mfor\u001b[39;00m j_idx \u001b[39min\u001b[39;00m \u001b[39mrange\u001b[39m(i_idx\u001b[39m+\u001b[39m\u001b[39m1\u001b[39m, \u001b[39mlen\u001b[39m(labels)):\n\u001b[1;32m     33\u001b[0m \tcurr_ami\u001b[39m.\u001b[39mappend(\u001b[39m1\u001b[39m \u001b[39m-\u001b[39m adjusted_mutual_info_score(labels[i_idx], labels[j_idx]))\n\u001b[0;32m---> 34\u001b[0m \tcurr_arand\u001b[39m.\u001b[39mappend(\u001b[39m1\u001b[39m \u001b[39m-\u001b[39m adjusted_rand_score(labels[i_idx], labels[j_idx]))\n\u001b[1;32m     35\u001b[0m \thcv \u001b[39m=\u001b[39m homogeneity_completeness_v_measure(labels[i_idx], labels[j_idx])\n\u001b[1;32m     36\u001b[0m \tcurr_vm\u001b[39m.\u001b[39mappend(\u001b[39m1\u001b[39m \u001b[39m-\u001b[39m hcv[\u001b[39m2\u001b[39m])\n",
      "File \u001b[0;32m~/anaconda3/envs/cambiguity/lib/python3.9/site-packages/sklearn/metrics/cluster/_supervised.py:383\u001b[0m, in \u001b[0;36madjusted_rand_score\u001b[0;34m(labels_true, labels_pred)\u001b[0m\n\u001b[1;32m    302\u001b[0m \u001b[39mdef\u001b[39;00m \u001b[39madjusted_rand_score\u001b[39m(labels_true, labels_pred):\n\u001b[1;32m    303\u001b[0m     \u001b[39m\"\"\"Rand index adjusted for chance.\u001b[39;00m\n\u001b[1;32m    304\u001b[0m \n\u001b[1;32m    305\u001b[0m \u001b[39m    The Rand Index computes a similarity measure between two clusterings\u001b[39;00m\n\u001b[0;32m   (...)\u001b[0m\n\u001b[1;32m    381\u001b[0m \u001b[39m    adjusted_mutual_info_score : Adjusted Mutual Information.\u001b[39;00m\n\u001b[1;32m    382\u001b[0m \u001b[39m    \"\"\"\u001b[39;00m\n\u001b[0;32m--> 383\u001b[0m     (tn, fp), (fn, tp) \u001b[39m=\u001b[39m pair_confusion_matrix(labels_true, labels_pred)\n\u001b[1;32m    385\u001b[0m     \u001b[39m# Special cases: empty data or full agreement\u001b[39;00m\n\u001b[1;32m    386\u001b[0m     \u001b[39mif\u001b[39;00m fn \u001b[39m==\u001b[39m \u001b[39m0\u001b[39m \u001b[39mand\u001b[39;00m fp \u001b[39m==\u001b[39m \u001b[39m0\u001b[39m:\n",
      "File \u001b[0;32m~/anaconda3/envs/cambiguity/lib/python3.9/site-packages/sklearn/metrics/cluster/_supervised.py:214\u001b[0m, in \u001b[0;36mpair_confusion_matrix\u001b[0;34m(labels_true, labels_pred)\u001b[0m\n\u001b[1;32m    154\u001b[0m \u001b[39mdef\u001b[39;00m \u001b[39mpair_confusion_matrix\u001b[39m(labels_true, labels_pred):\n\u001b[1;32m    155\u001b[0m     \u001b[39m\"\"\"Pair confusion matrix arising from two clusterings.\u001b[39;00m\n\u001b[1;32m    156\u001b[0m \n\u001b[1;32m    157\u001b[0m \u001b[39m    The pair confusion matrix :math:`C` computes a 2 by 2 similarity matrix\u001b[39;00m\n\u001b[0;32m   (...)\u001b[0m\n\u001b[1;32m    212\u001b[0m \u001b[39m      https://link.springer.com/article/10.1007%2FBF01908075\u001b[39;00m\n\u001b[1;32m    213\u001b[0m \u001b[39m    \"\"\"\u001b[39;00m\n\u001b[0;32m--> 214\u001b[0m     labels_true, labels_pred \u001b[39m=\u001b[39m check_clusterings(labels_true, labels_pred)\n\u001b[1;32m    215\u001b[0m     n_samples \u001b[39m=\u001b[39m np\u001b[39m.\u001b[39mint64(labels_true\u001b[39m.\u001b[39mshape[\u001b[39m0\u001b[39m])\n\u001b[1;32m    217\u001b[0m     \u001b[39m# Computation using the contingency data\u001b[39;00m\n",
      "File \u001b[0;32m~/anaconda3/envs/cambiguity/lib/python3.9/site-packages/sklearn/metrics/cluster/_supervised.py:51\u001b[0m, in \u001b[0;36mcheck_clusterings\u001b[0;34m(labels_true, labels_pred)\u001b[0m\n\u001b[1;32m     43\u001b[0m labels_true \u001b[39m=\u001b[39m check_array(\n\u001b[1;32m     44\u001b[0m     labels_true, ensure_2d\u001b[39m=\u001b[39m\u001b[39mFalse\u001b[39;00m, ensure_min_samples\u001b[39m=\u001b[39m\u001b[39m0\u001b[39m, dtype\u001b[39m=\u001b[39m\u001b[39mNone\u001b[39;00m,\n\u001b[1;32m     45\u001b[0m )\n\u001b[1;32m     47\u001b[0m labels_pred \u001b[39m=\u001b[39m check_array(\n\u001b[1;32m     48\u001b[0m     labels_pred, ensure_2d\u001b[39m=\u001b[39m\u001b[39mFalse\u001b[39;00m, ensure_min_samples\u001b[39m=\u001b[39m\u001b[39m0\u001b[39m, dtype\u001b[39m=\u001b[39m\u001b[39mNone\u001b[39;00m,\n\u001b[1;32m     49\u001b[0m )\n\u001b[0;32m---> 51\u001b[0m type_label \u001b[39m=\u001b[39m type_of_target(labels_true)\n\u001b[1;32m     52\u001b[0m type_pred \u001b[39m=\u001b[39m type_of_target(labels_pred)\n\u001b[1;32m     54\u001b[0m \u001b[39mif\u001b[39;00m \u001b[39m'\u001b[39m\u001b[39mcontinuous\u001b[39m\u001b[39m'\u001b[39m \u001b[39min\u001b[39;00m (type_pred, type_label):\n",
      "File \u001b[0;32m~/anaconda3/envs/cambiguity/lib/python3.9/site-packages/sklearn/utils/multiclass.py:306\u001b[0m, in \u001b[0;36mtype_of_target\u001b[0;34m(y)\u001b[0m\n\u001b[1;32m    303\u001b[0m     _assert_all_finite(y)\n\u001b[1;32m    304\u001b[0m     \u001b[39mreturn\u001b[39;00m \u001b[39m'\u001b[39m\u001b[39mcontinuous\u001b[39m\u001b[39m'\u001b[39m \u001b[39m+\u001b[39m suffix\n\u001b[0;32m--> 306\u001b[0m \u001b[39mif\u001b[39;00m (\u001b[39mlen\u001b[39m(np\u001b[39m.\u001b[39;49munique(y)) \u001b[39m>\u001b[39m \u001b[39m2\u001b[39m) \u001b[39mor\u001b[39;00m (y\u001b[39m.\u001b[39mndim \u001b[39m>\u001b[39m\u001b[39m=\u001b[39m \u001b[39m2\u001b[39m \u001b[39mand\u001b[39;00m \u001b[39mlen\u001b[39m(y[\u001b[39m0\u001b[39m]) \u001b[39m>\u001b[39m \u001b[39m1\u001b[39m):\n\u001b[1;32m    307\u001b[0m     \u001b[39mreturn\u001b[39;00m \u001b[39m'\u001b[39m\u001b[39mmulticlass\u001b[39m\u001b[39m'\u001b[39m \u001b[39m+\u001b[39m suffix  \u001b[39m# [1, 2, 3] or [[1., 2., 3]] or [[1, 2]]\u001b[39;00m\n\u001b[1;32m    308\u001b[0m \u001b[39melse\u001b[39;00m:\n",
      "File \u001b[0;32m<__array_function__ internals>:4\u001b[0m, in \u001b[0;36munique\u001b[0;34m(*args, **kwargs)\u001b[0m\n",
      "\u001b[0;31mKeyboardInterrupt\u001b[0m: "
     ]
    }
   ],
   "source": [
    "ami_ambiguity_list = []\n",
    "arand_ambiguity_list = []\n",
    "v_measure_score_list = []\n",
    "homo_score_list = []\n",
    "comp_score_list = []\n",
    "\n",
    "for key in keys:\n",
    "\tlabels = []\n",
    "\tlength = np.load(f\"./scatterplots/{key}\").shape[0]\n",
    "\tfor result in study_result:\n",
    "\t\t\n",
    "\t\tlasso_result = result[\"lassoResult\"][key]\n",
    "\n",
    "\t\tlabel = [\"-1\"] * length\n",
    "\t\tfor brushIdx in lasso_result:\n",
    "\t\t\tbrush = lasso_result[brushIdx]\n",
    "\t\t\tfor i, point in enumerate(brush):\n",
    "\t\t\t\tif point == True:\n",
    "\t\t\t\t\tif label[i] == \"-1\":\n",
    "\t\t\t\t\t\tlabel[i] = brushIdx\n",
    "\t\t\t\t\telse:\n",
    "\t\t\t\t\t\tlabel[i] += \"_\" + brushIdx\n",
    "\n",
    "\t\tlabels.append(label)\n",
    "\t\n",
    "\tcurr_ami = []\n",
    "\tcurr_arand = []\n",
    "\tcurr_vm = []\n",
    "\tcurr_homo = []\n",
    "\tcurr_comp = []\n",
    "\tfor i_idx in range(len(labels)):\n",
    "\t\tfor j_idx in range(i_idx+1, len(labels)):\n",
    "\t\t\tcurr_ami.append(1 - adjusted_mutual_info_score(labels[i_idx], labels[j_idx]))\n",
    "\t\t\tcurr_arand.append(1 - adjusted_rand_score(labels[i_idx], labels[j_idx]))\n",
    "\t\t\thcv = homogeneity_completeness_v_measure(labels[i_idx], labels[j_idx])\n",
    "\t\t\tcurr_vm.append(1 - hcv[2])\n",
    "\t\t\tcurr_homo.append(1 - hcv[0])\n",
    "\t\t\tcurr_comp.append(1 - hcv[1])\n",
    "\n",
    "\t\n",
    "\tami_ambiguity_list.append(np.mean(curr_ami))\n",
    "\tarand_ambiguity_list.append(np.mean(curr_arand))\n",
    "\tv_measure_score_list.append(np.mean(curr_vm))\n",
    "\thomo_score_list.append(np.mean(curr_homo))\n",
    "\tcomp_score_list.append(np.mean(curr_comp))\n"
   ]
  },
  {
   "cell_type": "code",
   "execution_count": 5,
   "metadata": {},
   "outputs": [
    {
     "ename": "NameError",
     "evalue": "name 'ami_ambiguity_list' is not defined",
     "output_type": "error",
     "traceback": [
      "\u001b[0;31m---------------------------------------------------------------------------\u001b[0m",
      "\u001b[0;31mNameError\u001b[0m                                 Traceback (most recent call last)",
      "Cell \u001b[0;32mIn [5], line 1\u001b[0m\n\u001b[0;32m----> 1\u001b[0m np\u001b[39m.\u001b[39msave(\u001b[39m\"\u001b[39m\u001b[39m./userstudy_ambiguity/ami_ambiguity_list.npy\u001b[39m\u001b[39m\"\u001b[39m, np\u001b[39m.\u001b[39marray(ami_ambiguity_list))\n\u001b[1;32m      2\u001b[0m np\u001b[39m.\u001b[39msave(\u001b[39m\"\u001b[39m\u001b[39m./userstudy_ambiguity/arand_ambiguity_list.npy\u001b[39m\u001b[39m\"\u001b[39m, np\u001b[39m.\u001b[39marray(arand_ambiguity_list))\n\u001b[1;32m      3\u001b[0m np\u001b[39m.\u001b[39msave(\u001b[39m\"\u001b[39m\u001b[39m./userstudy_ambiguity/vm_ambiguity_list.npy\u001b[39m\u001b[39m\"\u001b[39m, np\u001b[39m.\u001b[39marray(v_measure_score_list))\n",
      "\u001b[0;31mNameError\u001b[0m: name 'ami_ambiguity_list' is not defined"
     ]
    }
   ],
   "source": [
    "np.save(\"./userstudy_ambiguity/ami_ambiguity_list.npy\", np.array(ami_ambiguity_list))\n",
    "np.save(\"./userstudy_ambiguity/arand_ambiguity_list.npy\", np.array(arand_ambiguity_list))\n",
    "np.save(\"./userstudy_ambiguity/vm_ambiguity_list.npy\", np.array(v_measure_score_list))\n",
    "np.save(\"./userstudy_ambiguity/homo_ambiguity_list.npy\", np.array(homo_score_list))\n",
    "np.save(\"./userstudy_ambiguity/comp_ambiguity_list.npy\", np.array(comp_score_list))\n",
    "np.save(\"./userstudy_ambiguity/keys.npy\", np.array(keys))"
   ]
  },
  {
   "cell_type": "code",
   "execution_count": 6,
   "metadata": {},
   "outputs": [],
   "source": [
    "ami_ambiguity_list  = np.load(\"./userstudy_ambiguity/ami_ambiguity_list.npy\")\n",
    "arand_ambiguity_list = np.load(\"./userstudy_ambiguity/arand_ambiguity_list.npy\")\n",
    "v_measure_score_list = np.load(\"./userstudy_ambiguity/vm_ambiguity_list.npy\")\n",
    "homo_score_list = np.load(\"./userstudy_ambiguity/homo_ambiguity_list.npy\")\n",
    "comp_score_list = np.load(\"./userstudy_ambiguity/comp_ambiguity_list.npy\")"
   ]
  },
  {
   "cell_type": "code",
   "execution_count": 12,
   "metadata": {},
   "outputs": [],
   "source": [
    "file_list = os.listdir(\"../scatterplots/sampling/\")\n",
    "amb_file_list = [file for file in file_list if file[:10] == \"ambiguity_\"]\n",
    "\n",
    "max_sum = 0\n",
    "max_file = \"\"\n",
    "for file in amb_file_list:\n",
    "  curr_amb = np.load(\"../scatterplots/sampling/\" + file)\n",
    "  ami_corr = spearmanr(curr_amb, ami_ambiguity_list)[0]\n",
    "  arand_corr = spearmanr(curr_amb, arand_ambiguity_list)[0]\n",
    "  vm_corr = spearmanr(curr_amb, v_measure_score_list)[0]\n",
    "  homo_corr = spearmanr(curr_amb, homo_score_list)[0]\n",
    "  comp_corr = spearmanr(curr_amb, comp_score_list)[0]\n",
    "  sum_corr = ami_corr + arand_corr + vm_corr + homo_corr + comp_corr\n",
    "  if sum_corr > max_sum:\n",
    "    max_sum = sum_corr\n",
    "    max_file = file\t\n",
    "\n",
    "ambiguities = np.load(\"../scatterplots/sampling/\" + max_file)"
   ]
  },
  {
   "cell_type": "code",
   "execution_count": 49,
   "metadata": {},
   "outputs": [
    {
     "data": {
      "image/png": "[encoded data removed]",
      "text/plain": [
       "<Figure size 1000x400 with 5 Axes>"
      ]
     },
     "metadata": {},
     "output_type": "display_data"
    }
   ],
   "source": [
    "correlation = []\n",
    "prediction = []\n",
    "ground_truth = []\n",
    "\n",
    "prediction_list = [\n",
    "    ambiguities, hdbscan_ambiguity, dbscan_ambiguity, birch_ambiguity, xmeans_ambiguity\n",
    "]\n",
    "prediction_name_list = [\"CLAMS\", \"HDBSCAN\", \"DBSCAN\", \"BIRCH\", \"$X$-Means\"]\n",
    "\n",
    "ground_truth_list = [\n",
    "    ami_ambiguity_list, arand_ambiguity_list, v_measure_score_list, homo_score_list, comp_score_list\n",
    "]\n",
    "ground_truth_name_list = [\"AMI\", \"ARAND\", \"V-measure\", \"Homogeneity\", \"Completeness\"]\n",
    "\n",
    "for i in range(len(prediction_list)):\n",
    "  for j in range(len(ground_truth_list)):\n",
    "    corr_val = spearmanr(prediction_list[i], ground_truth_list[j])[0]\n",
    "    if corr_val < 0:\n",
    "      corr_val = - corr_val\n",
    "    correlation.append(corr_val)\n",
    "    prediction.append(prediction_name_list[i])\n",
    "    ground_truth.append(ground_truth_name_list[j])\n",
    "\n",
    "\n",
    "df = pd.DataFrame({\n",
    "\t\t\"Rank Correlation\": correlation,\n",
    "\t\t\"Prediction\": prediction,\n",
    "\t\t\"Ground Truth\": ground_truth\n",
    "})\n",
    "\n",
    "sns.set_style(\"whitegrid\")\n",
    "fig, ax = plt.subplots(len(ground_truth_list), figsize=(10, 4), sharex=True)\n",
    "\n",
    "for i in range(len(ground_truth_list)):\n",
    "  sns.stripplot(\n",
    "    df[df[\"Ground Truth\"] == ground_truth_name_list[i]], \n",
    "    x=\"Rank Correlation\", hue=\"Prediction\", ax=ax[i], jitter=False, marker=\"d\", s=10, alpha=0.7\n",
    "\t)\n",
    "  ## set x range\n",
    "  ax[i].set_xlim(0, 1)\n",
    "  \n",
    "\t## make legend in the bottom center \n",
    "  ax[i].get_legend().remove()\n",
    "  if i == len(ground_truth_list) - 1:\n",
    "    handles, labels = ax[i].get_legend_handles_labels()\n",
    "    fig.legend(handles, labels, loc=\"lower center\", ncol=5, bbox_to_anchor=(0.5, -0.1))\n",
    "\n",
    "    "
   ]
  },
  {
   "cell_type": "code",
   "execution_count": 57,
   "metadata": {},
   "outputs": [
    {
     "data": {
      "image/png": "[encoded data removed]",
      "text/plain": [
       "<Figure size 1000x80 with 1 Axes>"
      ]
     },
     "metadata": {},
     "output_type": "display_data"
    }
   ],
   "source": [
    "\n",
    "\n",
    "rank_corr = [spearmanr(user_selected_ambiguity, prediction)[0] for prediction in prediction_list]\n",
    "rank_corr = [abs(corr) for corr in rank_corr]\n",
    "\n",
    "df = pd.DataFrame({\n",
    "    \"Rank Correlation\": rank_corr,\n",
    "    \"Prediction\": prediction_name_list\n",
    "})\n",
    "\n",
    "fig = plt.figure(figsize=(10, 0.8))\n",
    "sns.stripplot(\n",
    "\t\tdf,\tx=\"Rank Correlation\", hue=\"Prediction\", jitter=False, marker=\"d\", s=10, alpha=0.7\n",
    ")\n",
    "\n",
    "plt.xlim(0, 1)\n",
    "## remove legend\n",
    "plt.gca().get_legend().remove()"
   ]
  },
  {
   "cell_type": "code",
   "execution_count": 63,
   "metadata": {},
   "outputs": [
    {
     "name": "stdout",
     "output_type": "stream",
     "text": [
      "Mean correlation:  0.4330107757732087\n",
      "Std correlation:  0.1708247125720663\n"
     ]
    },
    {
     "data": {
      "text/plain": [
       "<AxesSubplot:>"
      ]
     },
     "execution_count": 63,
     "metadata": {},
     "output_type": "execute_result"
    },
    {
     "data": {
      "image/png": "[encoded data removed]",
      "text/plain": [
       "<Figure size 640x480 with 2 Axes>"
      ]
     },
     "metadata": {},
     "output_type": "display_data"
    }
   ],
   "source": [
    "user_selected_ambiguity_list = []\n",
    "for result in study_result:\n",
    "\tuser_selected_ambiguity = np.zeros(len(keys))\n",
    "\tfor i, key in enumerate(keys):\n",
    "\t\tuser_selected_ambiguity[i] += int(result[\"ambiguity\"][key])\n",
    "\tuser_selected_ambiguity_list.append(user_selected_ambiguity)\n",
    "\n",
    "corr_list = []\n",
    "for user_selected_ambiguity in user_selected_ambiguity_list:\n",
    "\tcorr_list.append(spearmanr(ami_ambiguity_list, user_selected_ambiguity)[0])\n",
    "\n",
    "user_selected_ambiguity_list = np.array(user_selected_ambiguity_list)[np.argsort(corr_list)]\n",
    "\n",
    "user_selected_ambiguity_corr_matrix = np.zeros((len(user_selected_ambiguity_list), len(user_selected_ambiguity_list)))\n",
    "\n",
    "corr_arr = []\n",
    "for i in range(len(user_selected_ambiguity_list)):\n",
    "\tfor j in range(0, i + 1):\n",
    "\t\tuser_selected_ambiguity_corr_matrix[i, j] = spearmanr(user_selected_ambiguity_list[i], user_selected_ambiguity_list[j])[0]\n",
    "\t\tuser_selected_ambiguity_corr_matrix[j, i] = user_selected_ambiguity_corr_matrix[i, j]\n",
    "\t\tif i != j:\n",
    "\t\t\tcorr_arr.append(user_selected_ambiguity_corr_matrix[i, j])\n",
    "\n",
    "print(\"Mean correlation: \", np.mean(corr_arr))\n",
    "print(\"Std correlation: \", np.std(corr_arr))\n",
    "sns.heatmap(user_selected_ambiguity_corr_matrix, cmap=\"RdBu\", vmin=-1, vmax=1)"
   ]
  }
 ],
 "metadata": {
  "kernelspec": {
   "display_name": "cambiguity",
   "language": "python",
   "name": "python3"
  },
  "language_info": {
   "codemirror_mode": {
    "name": "ipython",
    "version": 3
   },
   "file_extension": ".py",
   "mimetype": "text/x-python",
   "name": "python",
   "nbconvert_exporter": "python",
   "pygments_lexer": "ipython3",
   "version": "3.9.15"
  },
  "orig_nbformat": 4,
  "vscode": {
   "interpreter": {
    "hash": "67b843df68ad62ab9d9a308ac42d910ba8af5accaed8452594a7c98329634d46"
   }
  }
 },
 "nbformat": 4,
 "nbformat_minor": 2
}
